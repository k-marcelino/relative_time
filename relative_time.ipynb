{
 "cells": [
  {
   "cell_type": "markdown",
   "metadata": {},
   "source": [
    "## Testing Relative Time - Exploring\n",
    "\n",
    "https://dateutil.readthedocs.io/en/stable/relativedelta.html\n",
    "\n",
    "- Depois juntar com o código da cvm para pegar os peers\n",
    "    - lastday\n",
    "    - MTD\n",
    "    - T3BTD | quarter\n",
    "    - YTD\n",
    "    - last six months\n",
    "    - last year\n",
    "    - last 24 months\n",
    "    - last 36 months\n",
    "    - Since inception?\n",
    "\n",
    "- Agregar com biblioteca bizdays\n",
    "    - Ver se já não vem integrado na própria lib essas funções"
   ]
  },
  {
   "cell_type": "code",
   "execution_count": 15,
   "metadata": {},
   "outputs": [
    {
     "data": {
      "text/plain": [
       "relativedelta()"
      ]
     },
     "execution_count": 15,
     "metadata": {},
     "output_type": "execute_result"
    }
   ],
   "source": [
    "## relative delta - example\n",
    "\n",
    "import dateutil\n",
    "\n",
    "dateutil.relativedelta.relativedelta(dt1=None, dt2=None, years=0, months=0, days=0, leapdays=0, weeks=0, hours=0, \n",
    "                                    minutes=0, seconds=0, microseconds=0, year=None, month=None, day=None, weekday=None, \n",
    "                                    yearday=None, nlyearday=None, hour=None, minute=None, second=None, microsecond=None) "
   ]
  },
  {
   "cell_type": "code",
   "execution_count": 5,
   "metadata": {},
   "outputs": [
    {
     "name": "stdout",
     "output_type": "stream",
     "text": [
      "Today: 20221127\n",
      "Last Friday: 20221125\n",
      "Next Friday: 20221202\n"
     ]
    }
   ],
   "source": [
    "from datetime import datetime\n",
    "from dateutil.relativedelta import relativedelta, MO, TH, WE, TU, FR, SA, SU\n",
    "\n",
    "today = datetime.today()\n",
    "print(f'Today: {today.strftime(\"%Y%m%d\")}')\n",
    "last_friday = today + relativedelta(weekday=FR(-1))\n",
    "print(f'Last Friday: {last_friday.strftime(\"%Y%m%d\")}')\n",
    "next_friday = today + relativedelta(weekday=FR(1))\n",
    "print(f'Next Friday: {next_friday.strftime(\"%Y%m%d\")}')"
   ]
  },
  {
   "cell_type": "code",
   "execution_count": 7,
   "metadata": {},
   "outputs": [
    {
     "name": "stdout",
     "output_type": "stream",
     "text": [
      "Last day of the year: 20221231\n"
     ]
    }
   ],
   "source": [
    "# last day of the year\n",
    "last_day_of_year = today + relativedelta(month=12, day=31)\n",
    "print(f'Last day of the year: {last_day_of_year.strftime(\"%Y%m%d\")}')"
   ]
  },
  {
   "cell_type": "code",
   "execution_count": 6,
   "metadata": {},
   "outputs": [
    {
     "name": "stdout",
     "output_type": "stream",
     "text": [
      "Last day of month: 20221130\n"
     ]
    }
   ],
   "source": [
    "# last day of the month\n",
    "last_day_of_month = today + relativedelta(day=31)\n",
    "print(f'Last day of month: {last_day_of_month.strftime(\"%Y%m%d\")}')"
   ]
  },
  {
   "cell_type": "code",
   "execution_count": 8,
   "metadata": {},
   "outputs": [
    {
     "name": "stdout",
     "output_type": "stream",
     "text": [
      "Last six months: 20220527\n"
     ]
    }
   ],
   "source": [
    "# Last six months\n",
    "last_six_months = today + relativedelta(months=-6)\n",
    "print(f'Last six months: {last_six_months.strftime(\"%Y%m%d\")}')"
   ]
  },
  {
   "cell_type": "code",
   "execution_count": 9,
   "metadata": {},
   "outputs": [
    {
     "name": "stdout",
     "output_type": "stream",
     "text": [
      "First semester: 20220630\n"
     ]
    }
   ],
   "source": [
    "# first semester\n",
    "first_semester = today + relativedelta(month=6, day=30)\n",
    "print(f'First semester: {first_semester.strftime(\"%Y%m%d\")}')"
   ]
  },
  {
   "cell_type": "code",
   "execution_count": 10,
   "metadata": {},
   "outputs": [
    {
     "name": "stdout",
     "output_type": "stream",
     "text": [
      "Second semester: 20221231\n"
     ]
    }
   ],
   "source": [
    "# second semester\n",
    "second_semester = today + relativedelta(month=12, day=31)\n",
    "print(f'Second semester: {second_semester.strftime(\"%Y%m%d\")}')"
   ]
  },
  {
   "cell_type": "code",
   "execution_count": 12,
   "metadata": {},
   "outputs": [
    {
     "name": "stdout",
     "output_type": "stream",
     "text": [
      "Last five years: 20171231\n"
     ]
    }
   ],
   "source": [
    "#last five years\n",
    "last_five_years = second_semester + relativedelta(years=-5)\n",
    "print(f'Last five years: {last_five_years.strftime(\"%Y%m%d\")}')"
   ]
  },
  {
   "cell_type": "code",
   "execution_count": 2,
   "metadata": {},
   "outputs": [
    {
     "data": {
      "text/plain": [
       "datetime.datetime(2023, 2, 5, 0, 0)"
      ]
     },
     "execution_count": 2,
     "metadata": {},
     "output_type": "execute_result"
    }
   ],
   "source": [
    "# Testando o começo do ano\n",
    "today = datetime(2023, 2, 5)\n",
    "today"
   ]
  },
  {
   "cell_type": "code",
   "execution_count": 3,
   "metadata": {},
   "outputs": [
    {
     "name": "stdout",
     "output_type": "stream",
     "text": [
      "2 months earlier: 20221205\n"
     ]
    }
   ],
   "source": [
    "# 2 months earlier\n",
    "minus_2_months = today - relativedelta(months=2)\n",
    "print(f'2 months earlier: {minus_2_months.strftime(\"%Y%m%d\")}')"
   ]
  },
  {
   "cell_type": "code",
   "execution_count": 13,
   "metadata": {},
   "outputs": [
    {
     "name": "stdout",
     "output_type": "stream",
     "text": [
      "First day of the decade: 20200101\n"
     ]
    }
   ],
   "source": [
    "# first day of the decade\n",
    "first_day_of_the_decade = today + relativedelta(year=2020, month=1, day=1)\n",
    "print(f'First day of the decade: {first_day_of_the_decade.strftime(\"%Y%m%d\")}')"
   ]
  },
  {
   "cell_type": "code",
   "execution_count": 14,
   "metadata": {},
   "outputs": [
    {
     "name": "stdout",
     "output_type": "stream",
     "text": [
      "First day of the millennium: 20000101\n"
     ]
    }
   ],
   "source": [
    "# first day of the millennium\n",
    "first_day_of_the_millennium = today + relativedelta(year=2000, month=1, day=1)\n",
    "print(f'First day of the millennium: {first_day_of_the_millennium.strftime(\"%Y%m%d\")}')"
   ]
  },
  {
   "cell_type": "markdown",
   "metadata": {},
   "source": [
    "#### Using datetime"
   ]
  },
  {
   "cell_type": "code",
   "execution_count": 4,
   "metadata": {},
   "outputs": [
    {
     "data": {
      "text/plain": [
       "'20220928'"
      ]
     },
     "execution_count": 4,
     "metadata": {},
     "output_type": "execute_result"
    }
   ],
   "source": [
    "from datetime import timedelta\n",
    "from datetime import datetime\n",
    "\n",
    "today = datetime.today()#.strftime('%Y%m%d')\n",
    "\n",
    "# getting 2 months earlier from start\n",
    "start_2m = today - timedelta(days=60) #days=60\n",
    "start_2m.strftime('%Y%m%d')\n"
   ]
  },
  {
   "cell_type": "code",
   "execution_count": null,
   "metadata": {},
   "outputs": [],
   "source": []
  }
 ],
 "metadata": {
  "kernelspec": {
   "display_name": "Python 3.10.7 64-bit",
   "language": "python",
   "name": "python3"
  },
  "language_info": {
   "codemirror_mode": {
    "name": "ipython",
    "version": 3
   },
   "file_extension": ".py",
   "mimetype": "text/x-python",
   "name": "python",
   "nbconvert_exporter": "python",
   "pygments_lexer": "ipython3",
   "version": "3.10.7"
  },
  "orig_nbformat": 4,
  "vscode": {
   "interpreter": {
    "hash": "a289efcc8cdaddc677488112ca48e5ab9c82fb738b15b56b6e2d579b8cc30a69"
   }
  }
 },
 "nbformat": 4,
 "nbformat_minor": 2
}
